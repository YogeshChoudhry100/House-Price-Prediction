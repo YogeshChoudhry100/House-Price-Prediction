{
 "cells": [
  {
   "cell_type": "markdown",
   "id": "5dc671b1",
   "metadata": {},
   "source": [
    "## Machine Learning model to predict house\n",
    "## price using linear regression only\n",
    "## Jupyter notebook code.."
   ]
  },
  {
   "cell_type": "markdown",
   "id": "9a3f2898",
   "metadata": {},
   "source": [
    "#### Importing necessary libraries"
   ]
  },
  {
   "cell_type": "code",
   "execution_count": 1,
   "id": "a201b837",
   "metadata": {},
   "outputs": [],
   "source": [
    "import pandas as pd\n",
    "import numpy as np\n",
    "from sklearn.model_selection import train_test_split\n",
    "from sklearn.linear_model import LinearRegression\n",
    "from sklearn.metrics import mean_squared_error"
   ]
  },
  {
   "cell_type": "markdown",
   "id": "d5a86d50",
   "metadata": {},
   "source": [
    "#### Load the dataset"
   ]
  },
  {
   "cell_type": "code",
   "execution_count": 2,
   "id": "ea2254b3",
   "metadata": {},
   "outputs": [],
   "source": [
    "df = pd.read_excel(r\"C:\\Users\\Yogesh Choudhary\\Downloads\\HousePricePrediction.xlsx\")"
   ]
  },
  {
   "cell_type": "markdown",
   "id": "b5244343",
   "metadata": {},
   "source": [
    "#### Display basic information about the dataset"
   ]
  },
  {
   "cell_type": "code",
   "execution_count": 3,
   "id": "169414ac",
   "metadata": {},
   "outputs": [
    {
     "name": "stdout",
     "output_type": "stream",
     "text": [
      "<class 'pandas.core.frame.DataFrame'>\n",
      "RangeIndex: 2919 entries, 0 to 2918\n",
      "Data columns (total 13 columns):\n",
      " #   Column        Non-Null Count  Dtype  \n",
      "---  ------        --------------  -----  \n",
      " 0   Id            2919 non-null   int64  \n",
      " 1   MSSubClass    2919 non-null   int64  \n",
      " 2   MSZoning      2915 non-null   object \n",
      " 3   LotArea       2919 non-null   int64  \n",
      " 4   LotConfig     2919 non-null   object \n",
      " 5   BldgType      2919 non-null   object \n",
      " 6   OverallCond   2919 non-null   int64  \n",
      " 7   YearBuilt     2919 non-null   int64  \n",
      " 8   YearRemodAdd  2919 non-null   int64  \n",
      " 9   Exterior1st   2918 non-null   object \n",
      " 10  BsmtFinSF2    2918 non-null   float64\n",
      " 11  TotalBsmtSF   2918 non-null   float64\n",
      " 12  SalePrice     1460 non-null   float64\n",
      "dtypes: float64(3), int64(6), object(4)\n",
      "memory usage: 296.6+ KB\n",
      "None\n",
      "   Id  MSSubClass MSZoning  LotArea LotConfig BldgType  OverallCond  \\\n",
      "0   0          60       RL     8450    Inside     1Fam            5   \n",
      "1   1          20       RL     9600       FR2     1Fam            8   \n",
      "2   2          60       RL    11250    Inside     1Fam            5   \n",
      "3   3          70       RL     9550    Corner     1Fam            5   \n",
      "4   4          60       RL    14260       FR2     1Fam            5   \n",
      "\n",
      "   YearBuilt  YearRemodAdd Exterior1st  BsmtFinSF2  TotalBsmtSF  SalePrice  \n",
      "0       2003          2003     VinylSd         0.0        856.0   208500.0  \n",
      "1       1976          1976     MetalSd         0.0       1262.0   181500.0  \n",
      "2       2001          2002     VinylSd         0.0        920.0   223500.0  \n",
      "3       1915          1970     Wd Sdng         0.0        756.0   140000.0  \n",
      "4       2000          2000     VinylSd         0.0       1145.0   250000.0  \n"
     ]
    }
   ],
   "source": [
    "print(df.info())\n",
    "print(df.head())"
   ]
  },
  {
   "cell_type": "markdown",
   "id": "dc19d55a",
   "metadata": {},
   "source": [
    "#### Data Preprocessing\n",
    "#### Handling missing values"
   ]
  },
  {
   "cell_type": "code",
   "execution_count": 4,
   "id": "dafb3864",
   "metadata": {},
   "outputs": [],
   "source": [
    "df.dropna(inplace=True)"
   ]
  },
  {
   "cell_type": "markdown",
   "id": "63f80dab",
   "metadata": {},
   "source": [
    "#### Selecting features and target variable"
   ]
  },
  {
   "cell_type": "code",
   "execution_count": 5,
   "id": "91061c6b",
   "metadata": {},
   "outputs": [],
   "source": [
    "selected_features = ['LotArea', 'OverallCond', 'YearBuilt', 'YearRemodAdd', 'BsmtFinSF2', 'TotalBsmtSF']\n",
    "X = df[selected_features]\n",
    "y = df['SalePrice']"
   ]
  },
  {
   "cell_type": "markdown",
   "id": "1ceb77ca",
   "metadata": {},
   "source": [
    "#### Splitting the dataset into training and testing sets"
   ]
  },
  {
   "cell_type": "code",
   "execution_count": 6,
   "id": "2d7290ad",
   "metadata": {},
   "outputs": [],
   "source": [
    "X_train, X_test, y_train, y_test = train_test_split(X, y, test_size=0.2, random_state=42)"
   ]
  },
  {
   "cell_type": "markdown",
   "id": "98f625ad",
   "metadata": {},
   "source": [
    "#### Creating and training the Linear Regression model"
   ]
  },
  {
   "cell_type": "code",
   "execution_count": 7,
   "id": "e4616121",
   "metadata": {},
   "outputs": [
    {
     "data": {
      "text/plain": [
       "LinearRegression()"
      ]
     },
     "execution_count": 7,
     "metadata": {},
     "output_type": "execute_result"
    }
   ],
   "source": [
    "model = LinearRegression()\n",
    "model.fit(X_train, y_train)"
   ]
  },
  {
   "cell_type": "markdown",
   "id": "9f4eaeef",
   "metadata": {},
   "source": [
    "#### Model evaluation"
   ]
  },
  {
   "cell_type": "code",
   "execution_count": 8,
   "id": "116d04c0",
   "metadata": {},
   "outputs": [
    {
     "name": "stdout",
     "output_type": "stream",
     "text": [
      "Train RMSE: 53058.131315409046\n",
      "Test RMSE: 57148.83762660893\n"
     ]
    }
   ],
   "source": [
    "train_predictions = model.predict(X_train)\n",
    "train_rmse = np.sqrt(mean_squared_error(y_train, train_predictions))\n",
    "print(\"Train RMSE:\", train_rmse)\n",
    "test_predictions = model.predict(X_test)\n",
    "test_rmse = np.sqrt(mean_squared_error(y_test, test_predictions))\n",
    "print(\"Test RMSE:\", test_rmse)"
   ]
  },
  {
   "cell_type": "markdown",
   "id": "d51d6964",
   "metadata": {},
   "source": [
    "#### Predicting house prices"
   ]
  },
  {
   "cell_type": "code",
   "execution_count": 9,
   "id": "7d849812",
   "metadata": {},
   "outputs": [
    {
     "name": "stdout",
     "output_type": "stream",
     "text": [
      "Predicted Price: [224007.74777095]\n"
     ]
    }
   ],
   "source": [
    "new_data = pd.DataFrame({\n",
    "    'LotArea': [8000],\n",
    "    'OverallCond': [5],\n",
    "    'YearBuilt': [2000],\n",
    "    'YearRemodAdd': [2010],\n",
    "    'BsmtFinSF2': [100],\n",
    "    'TotalBsmtSF': [1200]\n",
    "})\n",
    "predicted_price = model.predict(new_data)\n",
    "print(\"Predicted Price:\", predicted_price)"
   ]
  }
 ],
 "metadata": {
  "kernelspec": {
   "display_name": "Python 3 (ipykernel)",
   "language": "python",
   "name": "python3"
  },
  "language_info": {
   "codemirror_mode": {
    "name": "ipython",
    "version": 3
   },
   "file_extension": ".py",
   "mimetype": "text/x-python",
   "name": "python",
   "nbconvert_exporter": "python",
   "pygments_lexer": "ipython3",
   "version": "3.9.12"
  }
 },
 "nbformat": 4,
 "nbformat_minor": 5
}
